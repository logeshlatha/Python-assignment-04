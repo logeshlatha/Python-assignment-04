{
 "cells": [
  {
   "cell_type": "code",
   "execution_count": 59,
   "id": "32e909b4",
   "metadata": {},
   "outputs": [],
   "source": [
    "#Python program(with class concepts)to find the area of the triangle\n",
    "class Triangle:\n",
    "    def __init__(length,side1,side2,side3):\n",
    "        length.a=side1\n",
    "        length.b=side2\n",
    "        length.c=side3\n",
    "        length.s=(length.a+length.b+length.c)/2\n",
    "class Area(Triangle):\n",
    "    def __init__(length,*triangle):\n",
    "        super(Area,length).__init__(*triangle)\n",
    "        #area=(s*(s-a)*(s-b)*(s-c))**0.5\n",
    "        length.area=(length.s*(length.s-length.a)*(length.s-length.b)*(length.s-length.c))**0.5"
   ]
  },
  {
   "cell_type": "code",
   "execution_count": 2,
   "id": "7a729efa",
   "metadata": {},
   "outputs": [
    {
     "data": {
      "text/plain": [
       "['Logesh', 'Reshmi']"
      ]
     },
     "execution_count": 2,
     "metadata": {},
     "output_type": "execute_result"
    }
   ],
   "source": [
    "#This function will return list of words that are longer than n\n",
    "def filter_long_words(n,Words_List):\n",
    "    L=[i for i in Words_List if len(i)>n]\n",
    "    return L"
   ]
  },
  {
   "cell_type": "code",
   "execution_count": 4,
   "id": "a4f8f3ab",
   "metadata": {},
   "outputs": [],
   "source": [
    "#This function will return a list of len of words in a list\n",
    "def len_of_words_in_list(List):\n",
    "    Len_list=[len(i) for i in List]\n",
    "    return Len_list"
   ]
  },
  {
   "cell_type": "code",
   "execution_count": 13,
   "id": "ddde997b",
   "metadata": {},
   "outputs": [],
   "source": [
    "#This function takes a Character as an argument and returns True if it is a vowel,else return False\n",
    "def identify_vowels(Word):\n",
    "    Vowels=['a','A','e','E','i','I','o','O','u','U']\n",
    "    if Word in Vowels:\n",
    "        return True\n",
    "    else:\n",
    "        return False"
   ]
  }
 ],
 "metadata": {
  "kernelspec": {
   "display_name": "Python 3",
   "language": "python",
   "name": "python3"
  },
  "language_info": {
   "codemirror_mode": {
    "name": "ipython",
    "version": 3
   },
   "file_extension": ".py",
   "mimetype": "text/x-python",
   "name": "python",
   "nbconvert_exporter": "python",
   "pygments_lexer": "ipython3",
   "version": "3.8.8"
  }
 },
 "nbformat": 4,
 "nbformat_minor": 5
}
